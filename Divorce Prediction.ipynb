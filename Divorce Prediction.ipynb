{
 "cells": [
  {
   "cell_type": "markdown",
   "metadata": {},
   "source": [
    "## Divorce prediction\n",
    "\n",
    "### Analiza verovatnoće razvoda braka\n",
    "\n",
    "Podaci su prikupljeni intervjuisanjem učesnika koji su odgovarali na postavljena pitanja koja se tiču njihovog odnosa sa partnerom."
   ]
  },
  {
   "cell_type": "code",
   "execution_count": 2,
   "metadata": {},
   "outputs": [],
   "source": [
    "import numpy as np \n",
    "import os \n",
    "import pandas as pd \n",
    "import matplotlib.pyplot as plt"
   ]
  },
  {
   "cell_type": "code",
   "execution_count": 14,
   "metadata": {},
   "outputs": [],
   "source": [
    "divorce_data  = pd.read_csv('divorce.csv', delimiter=';')\n",
    "attribute_info = pd.read_csv('AttributeInformation.tsv', delimiter='|')"
   ]
  },
  {
   "cell_type": "markdown",
   "metadata": {},
   "source": [
    "Pitanja koja su postavljana učesnicima se nalaze u fajlu 'AttributeInformation.tsv' i ona su ujedno i opisi atributa.\n",
    "1. If one of us apologizes when our discussion deteriorates, the discussion ends.\n",
    "2. I know we can ignore our differences, even if things get hard sometimes.\n",
    "3. When we need it, we can take our discussions with my spouse from the beginning and correct it.\n",
    "4. When I discuss with my spouse, to contact him will eventually work.\n",
    "5. The time I spent with my wife is special for us.\n",
    "6. We don't have time at home as partners.\n",
    "7. We are like two strangers who share the same environment at home rather than family.\n",
    "8. I enjoy our holidays with my wife.\n",
    "9. I enjoy traveling with my wife.\n",
    "10. Most of our goals are common to my spouse.\n",
    "11. I think that one day in the future, when I look back, I see that my spouse and I have been in harmony with each other.\n",
    "12. My spouse and I have similar values in terms of personal freedom.\n",
    "13. My spouse and I have similar sense of entertainment.\n",
    "14. Most of our goals for people (children, friends, etc.) are the same.\n",
    "15. Our dreams with my spouse are similar and harmonious.\n",
    "16. We're compatible with my spouse about what love should be.\n",
    "17. We share the same views about being happy in our life with my spouse\n",
    "18. My spouse and I have similar ideas about how marriage should be\n",
    "19. My spouse and I have similar ideas about how roles should be in marriage\n",
    "20. My spouse and I have similar values in trust.\n",
    "21. I know exactly what my wife likes.\n",
    "22. I know how my spouse wants to be taken care of when she/he sick.\n",
    "23. I know my spouse's favorite food.\n",
    "24. I can tell you what kind of stress my spouse is facing in her/his life.\n",
    "25. I have knowledge of my spouse's inner world.\n",
    "26. I know my spouse's basic anxieties.\n",
    "27. I know what my spouse's current sources of stress are.\n",
    "28. I know my spouse's hopes and wishes.\n",
    "29. I know my spouse very well.\n",
    "30. I know my spouse's friends and their social relationships.\n",
    "31. I feel aggressive when I argue with my spouse.\n",
    "32. When discussing with my spouse, I usually use expressions such as ‘you always’ or ‘you never’ .\n",
    "33. I can use negative statements about my spouse's personality during our discussions.\n",
    "34. I can use offensive expressions during our discussions.\n",
    "35. I can insult my spouse during our discussions.\n",
    "36. I can be humiliating when we discussions.\n",
    "37. My discussion with my spouse is not calm.\n",
    "38. I hate my spouse's way of open a subject.\n",
    "39. Our discussions often occur suddenly.\n",
    "40. We're just starting a discussion before I know what's going on.\n",
    "41. When I talk to my spouse about something, my calm suddenly breaks.\n",
    "42. When I argue with my spouse, ı only go out and I don't say a word.\n",
    "43. I mostly stay silent to calm the environment a little bit.\n",
    "44. Sometimes I think it's good for me to leave home for a while.\n",
    "45. I'd rather stay silent than discuss with my spouse.\n",
    "46. Even if I'm right in the discussion, I stay silent to hurt my spouse.\n",
    "47. When I discuss with my spouse, I stay silent because I am afraid of not being able to control my anger.\n",
    "48. I feel right in our discussions.\n",
    "49. I have nothing to do with what I've been accused of.\n",
    "50. I'm not actually the one who's guilty about what I'm accused of.\n",
    "51. I'm not the one who's wrong about problems at home.\n",
    "52. I wouldn't hesitate to tell my spouse about her/his inadequacy.\n",
    "53. When I discuss, I remind my spouse of her/his inadequacy.\n",
    "54. I'm not afraid to tell my spouse about her/his incompetence. "
   ]
  },
  {
   "cell_type": "code",
   "execution_count": 21,
   "metadata": {},
   "outputs": [
    {
     "name": "stdout",
     "output_type": "stream",
     "text": [
      "<class 'pandas.core.frame.DataFrame'>\n",
      "RangeIndex: 54 entries, 0 to 53\n",
      "Data columns (total 2 columns):\n",
      " #   Column       Non-Null Count  Dtype \n",
      "---  ------       --------------  ----- \n",
      " 0   atribute_id  54 non-null     int64 \n",
      " 1   description  54 non-null     object\n",
      "dtypes: int64(1), object(1)\n",
      "memory usage: 992.0+ bytes\n"
     ]
    }
   ],
   "source": [
    "attribute_info.info()"
   ]
  },
  {
   "cell_type": "markdown",
   "metadata": {},
   "source": [
    "Ovaj dataset nema vrednosti koje nedostaju:"
   ]
  },
  {
   "cell_type": "code",
   "execution_count": 58,
   "metadata": {},
   "outputs": [
    {
     "data": {
      "text/plain": [
       "0"
      ]
     },
     "execution_count": 58,
     "metadata": {},
     "output_type": "execute_result"
    }
   ],
   "source": [
    "divorce_data.isnull().any().sum()"
   ]
  },
  {
   "cell_type": "markdown",
   "metadata": {},
   "source": [
    "Ovaj dataset ima 170 instanci:"
   ]
  },
  {
   "cell_type": "code",
   "execution_count": 26,
   "metadata": {},
   "outputs": [
    {
     "data": {
      "text/plain": [
       "(170, 55)"
      ]
     },
     "execution_count": 26,
     "metadata": {},
     "output_type": "execute_result"
    }
   ],
   "source": [
    "divorce_data.shape"
   ]
  },
  {
   "cell_type": "code",
   "execution_count": 27,
   "metadata": {},
   "outputs": [
    {
     "data": {
      "text/html": [
       "<div>\n",
       "<style scoped>\n",
       "    .dataframe tbody tr th:only-of-type {\n",
       "        vertical-align: middle;\n",
       "    }\n",
       "\n",
       "    .dataframe tbody tr th {\n",
       "        vertical-align: top;\n",
       "    }\n",
       "\n",
       "    .dataframe thead th {\n",
       "        text-align: right;\n",
       "    }\n",
       "</style>\n",
       "<table border=\"1\" class=\"dataframe\">\n",
       "  <thead>\n",
       "    <tr style=\"text-align: right;\">\n",
       "      <th></th>\n",
       "      <th>Atr1</th>\n",
       "      <th>Atr2</th>\n",
       "      <th>Atr3</th>\n",
       "      <th>Atr4</th>\n",
       "      <th>Atr5</th>\n",
       "      <th>Atr6</th>\n",
       "      <th>Atr7</th>\n",
       "      <th>Atr8</th>\n",
       "      <th>Atr9</th>\n",
       "      <th>Atr10</th>\n",
       "      <th>...</th>\n",
       "      <th>Atr46</th>\n",
       "      <th>Atr47</th>\n",
       "      <th>Atr48</th>\n",
       "      <th>Atr49</th>\n",
       "      <th>Atr50</th>\n",
       "      <th>Atr51</th>\n",
       "      <th>Atr52</th>\n",
       "      <th>Atr53</th>\n",
       "      <th>Atr54</th>\n",
       "      <th>Class</th>\n",
       "    </tr>\n",
       "  </thead>\n",
       "  <tbody>\n",
       "    <tr>\n",
       "      <th>0</th>\n",
       "      <td>2</td>\n",
       "      <td>2</td>\n",
       "      <td>4</td>\n",
       "      <td>1</td>\n",
       "      <td>0</td>\n",
       "      <td>0</td>\n",
       "      <td>0</td>\n",
       "      <td>0</td>\n",
       "      <td>0</td>\n",
       "      <td>0</td>\n",
       "      <td>...</td>\n",
       "      <td>2</td>\n",
       "      <td>1</td>\n",
       "      <td>3</td>\n",
       "      <td>3</td>\n",
       "      <td>3</td>\n",
       "      <td>2</td>\n",
       "      <td>3</td>\n",
       "      <td>2</td>\n",
       "      <td>1</td>\n",
       "      <td>1</td>\n",
       "    </tr>\n",
       "    <tr>\n",
       "      <th>1</th>\n",
       "      <td>4</td>\n",
       "      <td>4</td>\n",
       "      <td>4</td>\n",
       "      <td>4</td>\n",
       "      <td>4</td>\n",
       "      <td>0</td>\n",
       "      <td>0</td>\n",
       "      <td>4</td>\n",
       "      <td>4</td>\n",
       "      <td>4</td>\n",
       "      <td>...</td>\n",
       "      <td>2</td>\n",
       "      <td>2</td>\n",
       "      <td>3</td>\n",
       "      <td>4</td>\n",
       "      <td>4</td>\n",
       "      <td>4</td>\n",
       "      <td>4</td>\n",
       "      <td>2</td>\n",
       "      <td>2</td>\n",
       "      <td>1</td>\n",
       "    </tr>\n",
       "    <tr>\n",
       "      <th>2</th>\n",
       "      <td>2</td>\n",
       "      <td>2</td>\n",
       "      <td>2</td>\n",
       "      <td>2</td>\n",
       "      <td>1</td>\n",
       "      <td>3</td>\n",
       "      <td>2</td>\n",
       "      <td>1</td>\n",
       "      <td>1</td>\n",
       "      <td>2</td>\n",
       "      <td>...</td>\n",
       "      <td>3</td>\n",
       "      <td>2</td>\n",
       "      <td>3</td>\n",
       "      <td>1</td>\n",
       "      <td>1</td>\n",
       "      <td>1</td>\n",
       "      <td>2</td>\n",
       "      <td>2</td>\n",
       "      <td>2</td>\n",
       "      <td>1</td>\n",
       "    </tr>\n",
       "    <tr>\n",
       "      <th>3</th>\n",
       "      <td>3</td>\n",
       "      <td>2</td>\n",
       "      <td>3</td>\n",
       "      <td>2</td>\n",
       "      <td>3</td>\n",
       "      <td>3</td>\n",
       "      <td>3</td>\n",
       "      <td>3</td>\n",
       "      <td>3</td>\n",
       "      <td>3</td>\n",
       "      <td>...</td>\n",
       "      <td>2</td>\n",
       "      <td>2</td>\n",
       "      <td>3</td>\n",
       "      <td>3</td>\n",
       "      <td>3</td>\n",
       "      <td>3</td>\n",
       "      <td>2</td>\n",
       "      <td>2</td>\n",
       "      <td>2</td>\n",
       "      <td>1</td>\n",
       "    </tr>\n",
       "    <tr>\n",
       "      <th>4</th>\n",
       "      <td>2</td>\n",
       "      <td>2</td>\n",
       "      <td>1</td>\n",
       "      <td>1</td>\n",
       "      <td>1</td>\n",
       "      <td>1</td>\n",
       "      <td>0</td>\n",
       "      <td>0</td>\n",
       "      <td>0</td>\n",
       "      <td>0</td>\n",
       "      <td>...</td>\n",
       "      <td>2</td>\n",
       "      <td>1</td>\n",
       "      <td>2</td>\n",
       "      <td>3</td>\n",
       "      <td>2</td>\n",
       "      <td>2</td>\n",
       "      <td>2</td>\n",
       "      <td>1</td>\n",
       "      <td>0</td>\n",
       "      <td>1</td>\n",
       "    </tr>\n",
       "    <tr>\n",
       "      <th>5</th>\n",
       "      <td>0</td>\n",
       "      <td>0</td>\n",
       "      <td>1</td>\n",
       "      <td>0</td>\n",
       "      <td>0</td>\n",
       "      <td>2</td>\n",
       "      <td>0</td>\n",
       "      <td>0</td>\n",
       "      <td>0</td>\n",
       "      <td>1</td>\n",
       "      <td>...</td>\n",
       "      <td>2</td>\n",
       "      <td>2</td>\n",
       "      <td>1</td>\n",
       "      <td>2</td>\n",
       "      <td>1</td>\n",
       "      <td>1</td>\n",
       "      <td>1</td>\n",
       "      <td>2</td>\n",
       "      <td>0</td>\n",
       "      <td>1</td>\n",
       "    </tr>\n",
       "    <tr>\n",
       "      <th>6</th>\n",
       "      <td>3</td>\n",
       "      <td>3</td>\n",
       "      <td>3</td>\n",
       "      <td>2</td>\n",
       "      <td>1</td>\n",
       "      <td>3</td>\n",
       "      <td>4</td>\n",
       "      <td>3</td>\n",
       "      <td>2</td>\n",
       "      <td>2</td>\n",
       "      <td>...</td>\n",
       "      <td>3</td>\n",
       "      <td>2</td>\n",
       "      <td>3</td>\n",
       "      <td>2</td>\n",
       "      <td>3</td>\n",
       "      <td>3</td>\n",
       "      <td>2</td>\n",
       "      <td>2</td>\n",
       "      <td>2</td>\n",
       "      <td>1</td>\n",
       "    </tr>\n",
       "    <tr>\n",
       "      <th>7</th>\n",
       "      <td>2</td>\n",
       "      <td>1</td>\n",
       "      <td>2</td>\n",
       "      <td>2</td>\n",
       "      <td>2</td>\n",
       "      <td>1</td>\n",
       "      <td>0</td>\n",
       "      <td>3</td>\n",
       "      <td>3</td>\n",
       "      <td>2</td>\n",
       "      <td>...</td>\n",
       "      <td>0</td>\n",
       "      <td>1</td>\n",
       "      <td>2</td>\n",
       "      <td>2</td>\n",
       "      <td>2</td>\n",
       "      <td>1</td>\n",
       "      <td>1</td>\n",
       "      <td>1</td>\n",
       "      <td>0</td>\n",
       "      <td>1</td>\n",
       "    </tr>\n",
       "    <tr>\n",
       "      <th>8</th>\n",
       "      <td>2</td>\n",
       "      <td>2</td>\n",
       "      <td>1</td>\n",
       "      <td>0</td>\n",
       "      <td>0</td>\n",
       "      <td>4</td>\n",
       "      <td>1</td>\n",
       "      <td>3</td>\n",
       "      <td>3</td>\n",
       "      <td>3</td>\n",
       "      <td>...</td>\n",
       "      <td>1</td>\n",
       "      <td>1</td>\n",
       "      <td>1</td>\n",
       "      <td>1</td>\n",
       "      <td>1</td>\n",
       "      <td>1</td>\n",
       "      <td>1</td>\n",
       "      <td>1</td>\n",
       "      <td>1</td>\n",
       "      <td>1</td>\n",
       "    </tr>\n",
       "    <tr>\n",
       "      <th>9</th>\n",
       "      <td>1</td>\n",
       "      <td>1</td>\n",
       "      <td>1</td>\n",
       "      <td>1</td>\n",
       "      <td>1</td>\n",
       "      <td>2</td>\n",
       "      <td>0</td>\n",
       "      <td>2</td>\n",
       "      <td>2</td>\n",
       "      <td>2</td>\n",
       "      <td>...</td>\n",
       "      <td>2</td>\n",
       "      <td>0</td>\n",
       "      <td>2</td>\n",
       "      <td>2</td>\n",
       "      <td>2</td>\n",
       "      <td>2</td>\n",
       "      <td>4</td>\n",
       "      <td>3</td>\n",
       "      <td>3</td>\n",
       "      <td>1</td>\n",
       "    </tr>\n",
       "  </tbody>\n",
       "</table>\n",
       "<p>10 rows × 55 columns</p>\n",
       "</div>"
      ],
      "text/plain": [
       "   Atr1  Atr2  Atr3  Atr4  Atr5  Atr6  Atr7  Atr8  Atr9  Atr10  ...  Atr46  \\\n",
       "0     2     2     4     1     0     0     0     0     0      0  ...      2   \n",
       "1     4     4     4     4     4     0     0     4     4      4  ...      2   \n",
       "2     2     2     2     2     1     3     2     1     1      2  ...      3   \n",
       "3     3     2     3     2     3     3     3     3     3      3  ...      2   \n",
       "4     2     2     1     1     1     1     0     0     0      0  ...      2   \n",
       "5     0     0     1     0     0     2     0     0     0      1  ...      2   \n",
       "6     3     3     3     2     1     3     4     3     2      2  ...      3   \n",
       "7     2     1     2     2     2     1     0     3     3      2  ...      0   \n",
       "8     2     2     1     0     0     4     1     3     3      3  ...      1   \n",
       "9     1     1     1     1     1     2     0     2     2      2  ...      2   \n",
       "\n",
       "   Atr47  Atr48  Atr49  Atr50  Atr51  Atr52  Atr53  Atr54  Class  \n",
       "0      1      3      3      3      2      3      2      1      1  \n",
       "1      2      3      4      4      4      4      2      2      1  \n",
       "2      2      3      1      1      1      2      2      2      1  \n",
       "3      2      3      3      3      3      2      2      2      1  \n",
       "4      1      2      3      2      2      2      1      0      1  \n",
       "5      2      1      2      1      1      1      2      0      1  \n",
       "6      2      3      2      3      3      2      2      2      1  \n",
       "7      1      2      2      2      1      1      1      0      1  \n",
       "8      1      1      1      1      1      1      1      1      1  \n",
       "9      0      2      2      2      2      4      3      3      1  \n",
       "\n",
       "[10 rows x 55 columns]"
      ]
     },
     "execution_count": 27,
     "metadata": {},
     "output_type": "execute_result"
    }
   ],
   "source": [
    "divorce_data.head(10)"
   ]
  },
  {
   "cell_type": "code",
   "execution_count": 28,
   "metadata": {},
   "outputs": [
    {
     "name": "stdout",
     "output_type": "stream",
     "text": [
      "<class 'pandas.core.frame.DataFrame'>\n",
      "RangeIndex: 170 entries, 0 to 169\n",
      "Data columns (total 55 columns):\n",
      " #   Column  Non-Null Count  Dtype\n",
      "---  ------  --------------  -----\n",
      " 0   Atr1    170 non-null    int64\n",
      " 1   Atr2    170 non-null    int64\n",
      " 2   Atr3    170 non-null    int64\n",
      " 3   Atr4    170 non-null    int64\n",
      " 4   Atr5    170 non-null    int64\n",
      " 5   Atr6    170 non-null    int64\n",
      " 6   Atr7    170 non-null    int64\n",
      " 7   Atr8    170 non-null    int64\n",
      " 8   Atr9    170 non-null    int64\n",
      " 9   Atr10   170 non-null    int64\n",
      " 10  Atr11   170 non-null    int64\n",
      " 11  Atr12   170 non-null    int64\n",
      " 12  Atr13   170 non-null    int64\n",
      " 13  Atr14   170 non-null    int64\n",
      " 14  Atr15   170 non-null    int64\n",
      " 15  Atr16   170 non-null    int64\n",
      " 16  Atr17   170 non-null    int64\n",
      " 17  Atr18   170 non-null    int64\n",
      " 18  Atr19   170 non-null    int64\n",
      " 19  Atr20   170 non-null    int64\n",
      " 20  Atr21   170 non-null    int64\n",
      " 21  Atr22   170 non-null    int64\n",
      " 22  Atr23   170 non-null    int64\n",
      " 23  Atr24   170 non-null    int64\n",
      " 24  Atr25   170 non-null    int64\n",
      " 25  Atr26   170 non-null    int64\n",
      " 26  Atr27   170 non-null    int64\n",
      " 27  Atr28   170 non-null    int64\n",
      " 28  Atr29   170 non-null    int64\n",
      " 29  Atr30   170 non-null    int64\n",
      " 30  Atr31   170 non-null    int64\n",
      " 31  Atr32   170 non-null    int64\n",
      " 32  Atr33   170 non-null    int64\n",
      " 33  Atr34   170 non-null    int64\n",
      " 34  Atr35   170 non-null    int64\n",
      " 35  Atr36   170 non-null    int64\n",
      " 36  Atr37   170 non-null    int64\n",
      " 37  Atr38   170 non-null    int64\n",
      " 38  Atr39   170 non-null    int64\n",
      " 39  Atr40   170 non-null    int64\n",
      " 40  Atr41   170 non-null    int64\n",
      " 41  Atr42   170 non-null    int64\n",
      " 42  Atr43   170 non-null    int64\n",
      " 43  Atr44   170 non-null    int64\n",
      " 44  Atr45   170 non-null    int64\n",
      " 45  Atr46   170 non-null    int64\n",
      " 46  Atr47   170 non-null    int64\n",
      " 47  Atr48   170 non-null    int64\n",
      " 48  Atr49   170 non-null    int64\n",
      " 49  Atr50   170 non-null    int64\n",
      " 50  Atr51   170 non-null    int64\n",
      " 51  Atr52   170 non-null    int64\n",
      " 52  Atr53   170 non-null    int64\n",
      " 53  Atr54   170 non-null    int64\n",
      " 54  Class   170 non-null    int64\n",
      "dtypes: int64(55)\n",
      "memory usage: 73.2 KB\n"
     ]
    }
   ],
   "source": [
    "divorce_data.info()"
   ]
  },
  {
   "cell_type": "code",
   "execution_count": 57,
   "metadata": {},
   "outputs": [
    {
     "name": "stdout",
     "output_type": "stream",
     "text": [
      "Attribute Atr1 max value is 4 and min value is 0\n",
      "Attribute Atr2 max value is 4 and min value is 0\n",
      "Attribute Atr3 max value is 4 and min value is 0\n",
      "Attribute Atr4 max value is 4 and min value is 0\n",
      "Attribute Atr5 max value is 4 and min value is 0\n",
      "Attribute Atr6 max value is 4 and min value is 0\n",
      "Attribute Atr7 max value is 4 and min value is 0\n",
      "Attribute Atr8 max value is 4 and min value is 0\n",
      "Attribute Atr9 max value is 4 and min value is 0\n",
      "Attribute Atr10 max value is 4 and min value is 0\n",
      "Attribute Atr11 max value is 4 and min value is 0\n",
      "Attribute Atr12 max value is 4 and min value is 0\n",
      "Attribute Atr13 max value is 4 and min value is 0\n",
      "Attribute Atr14 max value is 4 and min value is 0\n",
      "Attribute Atr15 max value is 4 and min value is 0\n",
      "Attribute Atr16 max value is 4 and min value is 0\n",
      "Attribute Atr17 max value is 4 and min value is 0\n",
      "Attribute Atr18 max value is 4 and min value is 0\n",
      "Attribute Atr19 max value is 4 and min value is 0\n",
      "Attribute Atr20 max value is 4 and min value is 0\n",
      "Attribute Atr21 max value is 4 and min value is 0\n",
      "Attribute Atr22 max value is 4 and min value is 0\n",
      "Attribute Atr23 max value is 4 and min value is 0\n",
      "Attribute Atr24 max value is 4 and min value is 0\n",
      "Attribute Atr25 max value is 4 and min value is 0\n",
      "Attribute Atr26 max value is 4 and min value is 0\n",
      "Attribute Atr27 max value is 4 and min value is 0\n",
      "Attribute Atr28 max value is 4 and min value is 0\n",
      "Attribute Atr29 max value is 4 and min value is 0\n",
      "Attribute Atr30 max value is 4 and min value is 0\n",
      "Attribute Atr31 max value is 4 and min value is 0\n",
      "Attribute Atr32 max value is 4 and min value is 0\n",
      "Attribute Atr33 max value is 4 and min value is 0\n",
      "Attribute Atr34 max value is 4 and min value is 0\n",
      "Attribute Atr35 max value is 4 and min value is 0\n",
      "Attribute Atr36 max value is 4 and min value is 0\n",
      "Attribute Atr37 max value is 4 and min value is 0\n",
      "Attribute Atr38 max value is 4 and min value is 0\n",
      "Attribute Atr39 max value is 4 and min value is 0\n",
      "Attribute Atr40 max value is 4 and min value is 0\n",
      "Attribute Atr41 max value is 4 and min value is 0\n",
      "Attribute Atr42 max value is 4 and min value is 0\n",
      "Attribute Atr43 max value is 4 and min value is 0\n",
      "Attribute Atr44 max value is 4 and min value is 0\n",
      "Attribute Atr45 max value is 4 and min value is 0\n",
      "Attribute Atr46 max value is 4 and min value is 0\n",
      "Attribute Atr47 max value is 4 and min value is 0\n",
      "Attribute Atr48 max value is 4 and min value is 0\n",
      "Attribute Atr49 max value is 4 and min value is 0\n",
      "Attribute Atr50 max value is 4 and min value is 0\n",
      "Attribute Atr51 max value is 4 and min value is 0\n",
      "Attribute Atr52 max value is 4 and min value is 0\n",
      "Attribute Atr53 max value is 4 and min value is 0\n",
      "Attribute Atr54 max value is 4 and min value is 0\n",
      "Attribute Class max value is 1 and min value is 0\n"
     ]
    }
   ],
   "source": [
    "for atr in divorce_data:\n",
    "    print(\"Attribute {} max value is {} and min value is {}\".format(atr, max(divorce_data[atr]), min(divorce_data[atr])))"
   ]
  },
  {
   "cell_type": "markdown",
   "metadata": {},
   "source": [
    "Svi atributi su celi brojevi koji imaju vrednosti izmadju 0 i 4. Varijacija između donje i gornje granice je za svaki atribut ista - 4."
   ]
  },
  {
   "cell_type": "markdown",
   "metadata": {},
   "source": [
    "S obzirom da se atributi odnose na pitanja koja su postavljana učesnicima, ne postoji 'intuitivni' aribut za analizu centralne tendencije (npr. 'price'). \n",
    "Deskriptivna analiza se vrši nad atributima Atr29 (I know my spouse very well) i Atr37 (My discussion with my spouse is not calm), koji su slučalno odabrani."
   ]
  },
  {
   "cell_type": "code",
   "execution_count": 49,
   "metadata": {},
   "outputs": [],
   "source": [
    "spouses_know_each_other = divorce_data['Atr29']"
   ]
  },
  {
   "cell_type": "code",
   "execution_count": 47,
   "metadata": {},
   "outputs": [
    {
     "data": {
      "text/plain": [
       "1.4941176470588236"
      ]
     },
     "execution_count": 47,
     "metadata": {},
     "output_type": "execute_result"
    }
   ],
   "source": [
    "sum_spouses_know_each_other = sum(spouses_know_each_other)\n",
    "num_spouses_know_each_other = len(spouses_know_each_other)\n",
    "\n",
    "avg_spouses_know_each_other = sum_spouses_know_each_other/num_spouses_know_each_other\n",
    "\n",
    "avg_spouses_know_each_other"
   ]
  },
  {
   "cell_type": "code",
   "execution_count": 67,
   "metadata": {},
   "outputs": [
    {
     "data": {
      "text/plain": [
       "1.0"
      ]
     },
     "execution_count": 67,
     "metadata": {},
     "output_type": "execute_result"
    }
   ],
   "source": [
    "sorted_spouses_know_each_other = sorted(spouses_know_each_other)\n",
    "\n",
    "middle = (num_spouses_know_each_other / 2)\n",
    "\n",
    "middle_spouses_know_each_other = None\n",
    "\n",
    "if (middle % 2 == 1):\n",
    "    middle_spouses_know_each_other = (sorted_spouses_know_each_other[int(middle / 1)] + sorted_spouses_know_each_other[int(middle / 1) + 1]) /2\n",
    "else:\n",
    "    middle_spouses_know_each_other = sorted_spouses_know_each_other[int(middle)]\n",
    "\n",
    "middle_spouses_know_each_other"
   ]
  },
  {
   "cell_type": "code",
   "execution_count": 74,
   "metadata": {},
   "outputs": [
    {
     "name": "stdout",
     "output_type": "stream",
     "text": [
      "0 81\n"
     ]
    }
   ],
   "source": [
    "counts_spouses_know_each_other = {}\n",
    "for s in spouses_know_each_other:\n",
    "    if s not in counts_spouses_know_each_other:\n",
    "        counts_spouses_know_each_other[s] = 1\n",
    "    else:\n",
    "        counts_spouses_know_each_other[s] += 1\n",
    "\n",
    "max_ind_spouses_know_each_other = 0\n",
    "mode_spouses_know_each_other = None\n",
    "\n",
    "for k, v in counts_spouses_know_each_other.items():\n",
    "    if max_ind_spouses_know_each_other < v:\n",
    "        max_ind_spouses_know_each_other = v\n",
    "        mode_spouses_know_each_other = k\n",
    "mode_price = print(mode_spouses_know_each_other, max_ind_spouses_know_each_other)"
   ]
  },
  {
   "cell_type": "code",
   "execution_count": 75,
   "metadata": {},
   "outputs": [
    {
     "name": "stdout",
     "output_type": "stream",
     "text": [
      "1.5923153430642263\n"
     ]
    }
   ],
   "source": [
    "standard_deviation_spouses_know_each_other = spouses_know_each_other.std()\n",
    "print(standard_deviation_spouses_know_each_other)"
   ]
  },
  {
   "cell_type": "markdown",
   "metadata": {},
   "source": [
    "Srednja vrednost atributa 'I know my spouse very well' je 1.4941176470588236, dok je median 1. Vrednost za atribut koja se pojavljuje najviše puta (81) je 0. Standardna devijacija je 1.5923153430642263."
   ]
  },
  {
   "cell_type": "code",
   "execution_count": 78,
   "metadata": {},
   "outputs": [],
   "source": [
    "spouses_discussion_not_calm = divorce_data['Atr37']"
   ]
  },
  {
   "cell_type": "code",
   "execution_count": 81,
   "metadata": {},
   "outputs": [
    {
     "data": {
      "text/plain": [
       "2.088235294117647"
      ]
     },
     "execution_count": 81,
     "metadata": {},
     "output_type": "execute_result"
    }
   ],
   "source": [
    "sum_spouses_discussion_not_calm = sum(spouses_discussion_not_calm)\n",
    "num_spouses_discussion_not_calm = len(spouses_discussion_not_calm)\n",
    "\n",
    "avg_spouses_discussion_not_calm = sum_spouses_discussion_not_calm/num_spouses_discussion_not_calm\n",
    "\n",
    "avg_spouses_discussion_not_calm"
   ]
  },
  {
   "cell_type": "code",
   "execution_count": 82,
   "metadata": {},
   "outputs": [
    {
     "data": {
      "text/plain": [
       "2.0"
      ]
     },
     "execution_count": 82,
     "metadata": {},
     "output_type": "execute_result"
    }
   ],
   "source": [
    "sorted_spouses_discussion_not_calm = sorted(spouses_discussion_not_calm)\n",
    "\n",
    "middle = (num_spouses_discussion_not_calm / 2)\n",
    "\n",
    "middle_spouses_discussion_not_calm = None\n",
    "\n",
    "if (middle % 2 == 1):\n",
    "    middle_spouses_discussion_not_calm = (sorted_spouses_discussion_not_calm[int(middle / 1)] + sorted_spouses_discussion_not_calm[int(middle / 1) + 1]) /2\n",
    "else:\n",
    "    middle_spouses_discussion_not_calm = sorted_spouses_discussion_not_calm[int(middle)]\n",
    "\n",
    "middle_spouses_discussion_not_calm"
   ]
  },
  {
   "cell_type": "code",
   "execution_count": 83,
   "metadata": {},
   "outputs": [
    {
     "name": "stdout",
     "output_type": "stream",
     "text": [
      "4 64\n"
     ]
    }
   ],
   "source": [
    "counts_spouses_discussion_not_calm = {}\n",
    "for s in spouses_discussion_not_calm:\n",
    "    if s not in counts_spouses_discussion_not_calm:\n",
    "        counts_spouses_discussion_not_calm[s] = 1\n",
    "    else:\n",
    "        counts_spouses_discussion_not_calm[s] += 1\n",
    "\n",
    "max_ind_spouses_discussion_not_calm = 0\n",
    "mode_spouses_discussion_not_calm = None\n",
    "\n",
    "for k, v in counts_spouses_discussion_not_calm.items():\n",
    "    if max_ind_spouses_discussion_not_calm < v:\n",
    "        max_ind_spouses_discussion_not_calm = v\n",
    "        mode_spouses_discussion_not_calm = k\n",
    "mode_price = print(mode_spouses_discussion_not_calm, max_ind_spouses_discussion_not_calm)"
   ]
  },
  {
   "cell_type": "code",
   "execution_count": 84,
   "metadata": {},
   "outputs": [
    {
     "name": "stdout",
     "output_type": "stream",
     "text": [
      "1.7160510443785275\n"
     ]
    }
   ],
   "source": [
    "standard_deviation_spouses_discussion_not_calm = spouses_discussion_not_calm.std()\n",
    "print(standard_deviation_spouses_discussion_not_calm)"
   ]
  },
  {
   "cell_type": "markdown",
   "metadata": {},
   "source": [
    "Srednja vrednost atributa 'My discussion with my spouse is not calm' je 2.088235294117647, dok je median 2. Vrednost za atribut koja se pojavljuje najviše puta (64) je 4. Standardna devijacija je 1.7160510443785275."
   ]
  },
  {
   "cell_type": "code",
   "execution_count": null,
   "metadata": {},
   "outputs": [],
   "source": []
  }
 ],
 "metadata": {
  "kernelspec": {
   "display_name": "Python 3",
   "language": "python",
   "name": "python3"
  },
  "language_info": {
   "codemirror_mode": {
    "name": "ipython",
    "version": 3
   },
   "file_extension": ".py",
   "mimetype": "text/x-python",
   "name": "python",
   "nbconvert_exporter": "python",
   "pygments_lexer": "ipython3",
   "version": "3.8.5"
  }
 },
 "nbformat": 4,
 "nbformat_minor": 4
}
